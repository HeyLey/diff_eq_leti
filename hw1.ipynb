{
 "cells": [
  {
   "cell_type": "code",
   "execution_count": 1,
   "metadata": {
    "collapsed": true
   },
   "outputs": [],
   "source": [
    "import numpy as np\n",
    "import matplotlib.pyplot as plt\n"
   ]
  },
  {
   "cell_type": "code",
   "execution_count": 2,
   "metadata": {
    "collapsed": false
   },
   "outputs": [],
   "source": [
    "# вычисление второй производной\n",
    "def calc_ypp(x, y):\n",
    "    return np.arcsin(1 / (1 + x * x)) * y - np.sin(10 * x)\n",
    "\n",
    "# численное решение задачи Коши\n",
    "def solve_koshy(yp0):\n",
    "    x = 0\n",
    "    dx = 0.0001\n",
    "    y = 1\n",
    "    yp = yp0\n",
    "    while x < 1:\n",
    "        ypp = calc_ypp(x, y)\n",
    "        y += yp * dx\n",
    "        yp += ypp * dx\n",
    "        x += dx\n",
    "    return y\n",
    "\n",
    "\n",
    "yp0_list = [] # список с первыми производными в 0\n",
    "y1_list = []  # список со значениями в 1\n",
    "\n",
    "yp0 = -10\n",
    "\n",
    "# перебираем 1ю производную от -10 до 10\n",
    "while yp0 <= 10:\n",
    "    yp0 += 0.5\n",
    "    yp0_list.append(yp0)\n",
    "    y1_list.append(solve_koshy(yp0))"
   ]
  },
  {
   "cell_type": "code",
   "execution_count": 3,
   "metadata": {
    "collapsed": false
   },
   "outputs": [
    {
     "name": "stdout",
     "output_type": "stream",
     "text": [
      " left: 0.0 y(1) = 1.50064738014\n",
      "right: 0.5 y(1) = 2.08397368796\n"
     ]
    }
   ],
   "source": [
    "# находим интервал, в котором y(1) будет переходить через 2\n",
    "for i in range(len(yp0_list) - 1):\n",
    "    if (y1_list[i] <= 2) and (y1_list[i + 1] >= 2):\n",
    "        left = yp0_list[i] \n",
    "        right = yp0_list[i + 1] \n",
    "        break;\n",
    "print(\" left:\", left, \"y(1) =\", solve_koshy(left))\n",
    "print(\"right:\", right, \"y(1) =\",solve_koshy(right))"
   ]
  },
  {
   "cell_type": "code",
   "execution_count": 4,
   "metadata": {
    "collapsed": false
   },
   "outputs": [
    {
     "name": "stdout",
     "output_type": "stream",
     "text": [
      "1.79231053405\n",
      "1.93814211101\n",
      "2.01105789949\n",
      "1.97460000525\n",
      "1.99282895237\n",
      "2.00194342593\n",
      "1.99738618915\n",
      "1.99966480754\n",
      "2.00080411673\n"
     ]
    }
   ],
   "source": [
    "# находим y'(0) методом половинного деления\n",
    "while right - left > 1e-3:\n",
    "    m = (left + right) / 2\n",
    "    t = solve_koshy(m) \n",
    "    print(t)\n",
    "    if (t == 2):\n",
    "        break\n",
    "    if (t < 2):\n",
    "        left = m\n",
    "    else:\n",
    "        right = m\n",
    "    \n",
    "m = (left + right) / 2"
   ]
  },
  {
   "cell_type": "code",
   "execution_count": 5,
   "metadata": {
    "collapsed": true
   },
   "outputs": [],
   "source": [
    "# решение задачи Коши, которое возвращает все точки\n",
    "def solve_koshy_full(yp0):\n",
    "    x = 0\n",
    "    dx = 0.0001\n",
    "    y = 1\n",
    "    yp = yp0\n",
    "    x_list = [x]\n",
    "    y_list = [y]\n",
    "    while x < 1:\n",
    "        ypp = calc_ypp(x, y)\n",
    "        y += yp * dx\n",
    "        yp += ypp * dx\n",
    "        x += dx\n",
    "        x_list.append(x)\n",
    "        y_list.append(y)\n",
    "    return (x_list, y_list)"
   ]
  },
  {
   "cell_type": "code",
   "execution_count": 6,
   "metadata": {
    "collapsed": false
   },
   "outputs": [
    {
     "data": {
      "text/plain": [
       "[<matplotlib.lines.Line2D at 0x10c6f53c8>]"
      ]
     },
     "execution_count": 6,
     "metadata": {},
     "output_type": "execute_result"
    },
    {
     "data": {
      "image/png": "[encoded data removed]",
      "text/plain": [
       "<matplotlib.figure.Figure at 0x10a3694a8>"
      ]
     },
     "metadata": {},
     "output_type": "display_data"
    }
   ],
   "source": [
    "# график искомой функции\n",
    "%matplotlib inline\n",
    "\n",
    "x_l, y_l = solve_koshy_full(m)\n",
    "\n",
    "plt.plot(x_l, y_l)\n"
   ]
  },
  {
   "cell_type": "code",
   "execution_count": null,
   "metadata": {
    "collapsed": true
   },
   "outputs": [],
   "source": []
  }
 ],
 "metadata": {
  "anaconda-cloud": {},
  "kernelspec": {
   "display_name": "Python [Root]",
   "language": "python",
   "name": "Python [Root]"
  },
  "language_info": {
   "codemirror_mode": {
    "name": "ipython",
    "version": 3
   },
   "file_extension": ".py",
   "mimetype": "text/x-python",
   "name": "python",
   "nbconvert_exporter": "python",
   "pygments_lexer": "ipython3",
   "version": "3.5.2"
  }
 },
 "nbformat": 4,
 "nbformat_minor": 1
}
