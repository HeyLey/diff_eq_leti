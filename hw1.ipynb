{
 "cells": [
  {
   "cell_type": "code",
   "execution_count": 1,
   "metadata": {
    "collapsed": true
   },
   "outputs": [],
   "source": [
    "import numpy as np\n",
    "import matplotlib.pyplot as plt"
   ]
  },
  {
   "cell_type": "code",
   "execution_count": 2,
   "metadata": {
    "collapsed": false
   },
   "outputs": [
    {
     "name": "stdout",
     "output_type": "stream",
     "text": [
      "y'(0) = -10, y(1) = -10.165878776390961\n",
      "y'(0) = -9.5, y(1) = -9.582552468564492\n",
      "y'(0) = -9.0, y(1) = -8.999226160738061\n",
      "y'(0) = -8.5, y(1) = -8.415899852911574\n",
      "y'(0) = -8.0, y(1) = -7.83257354508508\n",
      "y'(0) = -7.5, y(1) = -7.249247237258643\n",
      "y'(0) = -7.0, y(1) = -6.665920929432175\n",
      "y'(0) = -6.5, y(1) = -6.082594621605738\n",
      "y'(0) = -6.0, y(1) = -5.499268313779265\n",
      "y'(0) = -5.5, y(1) = -4.915942005952802\n",
      "y'(0) = -5.0, y(1) = -4.332615698126308\n",
      "y'(0) = -4.5, y(1) = -3.749289390299885\n",
      "y'(0) = -4.0, y(1) = -3.1659630824734104\n",
      "y'(0) = -3.5, y(1) = -2.58263677464695\n",
      "y'(0) = -3.0, y(1) = -1.9993104668204844\n",
      "y'(0) = -2.5, y(1) = -1.4159841589940234\n",
      "y'(0) = -2.0, y(1) = -0.8326578511675509\n",
      "y'(0) = -1.5, y(1) = -0.24933154334108407\n",
      "y'(0) = -1.0, y(1) = 0.33399476448537824\n",
      "y'(0) = -0.5, y(1) = 0.9173210723118472\n",
      "y'(0) = 0.0, y(1) = 1.5006473801383278\n",
      "y'(0) = 0.5, y(1) = 2.0839736879647717\n",
      "y'(0) = 1.0, y(1) = 2.667299995791246\n",
      "y'(0) = 1.5, y(1) = 3.25062630361771\n",
      "y'(0) = 2.0, y(1) = 3.8339526114441527\n",
      "y'(0) = 2.5, y(1) = 4.417278919270612\n",
      "y'(0) = 3.0, y(1) = 5.000605227097105\n",
      "y'(0) = 3.5, y(1) = 5.583931534923601\n",
      "y'(0) = 4.0, y(1) = 6.167257842750063\n",
      "y'(0) = 4.5, y(1) = 6.750584150576536\n",
      "y'(0) = 5.0, y(1) = 7.3339104584029595\n",
      "y'(0) = 5.5, y(1) = 7.917236766229394\n",
      "y'(0) = 6.0, y(1) = 8.500563074055894\n",
      "y'(0) = 6.5, y(1) = 9.08388938188242\n",
      "y'(0) = 7.0, y(1) = 9.667215689708822\n",
      "y'(0) = 7.5, y(1) = 10.25054199753527\n",
      "y'(0) = 8.0, y(1) = 10.833868305361813\n",
      "y'(0) = 8.5, y(1) = 11.41719461318822\n",
      "y'(0) = 9.0, y(1) = 12.00052092101475\n",
      "y'(0) = 9.5, y(1) = 12.58384722884124\n",
      "y'(0) = 10.0, y(1) = 13.167173536667514\n"
     ]
    }
   ],
   "source": [
    "# вычисление второй производной\n",
    "def calc_ypp(x, y):\n",
    "    return np.arcsin(1 / (1 + x * x)) * y - np.sin(10 * x)\n",
    "\n",
    "# численное решение задачи Коши\n",
    "def solve_koshy(yp0):\n",
    "    x = 0\n",
    "    dx = 0.0001\n",
    "    y = 1\n",
    "    yp = yp0\n",
    "    while x < 1:\n",
    "        ypp = calc_ypp(x, y)\n",
    "        y += yp * dx\n",
    "        yp += ypp * dx\n",
    "        x += dx\n",
    "    return y\n",
    "\n",
    "\n",
    "\n",
    "\n",
    "yp0_list = [] # список с первыми производными в 0\n",
    "y1_list = []  # список со значениями в 1\n",
    "\n",
    "yp0 = -10 # левая граница\n",
    "\n",
    "# перебираем 1ю производную от -10 до 10\n",
    "while yp0 <= 10:\n",
    "    y1 = solve_koshy(yp0)\n",
    "    print(\"y'(0) = {}, y(1) = {}\".format(yp0, y1))\n",
    "    yp0_list.append(yp0)\n",
    "    y1_list.append(y1)\n",
    "    yp0 += 0.5\n"
   ]
  },
  {
   "cell_type": "code",
   "execution_count": 3,
   "metadata": {
    "collapsed": false
   },
   "outputs": [
    {
     "name": "stdout",
     "output_type": "stream",
     "text": [
      "left: 0.0 y(1) = 1.50064738014\n",
      "right: 0.5 y(1) = 2.08397368796\n"
     ]
    }
   ],
   "source": [
    "# находим интервал, в котором y(1) будет переходить через 2\n",
    "for i in range(len(yp0_list) - 1):\n",
    "    if (y1_list[i] <= 2) and (y1_list[i + 1] >= 2):\n",
    "        left = yp0_list[i] \n",
    "        right = yp0_list[i + 1] \n",
    "        break;\n",
    "print(\"left:\", left, \"y(1) =\", solve_koshy(left))\n",
    "print(\"right:\", right, \"y(1) =\",solve_koshy(right))"
   ]
  },
  {
   "cell_type": "code",
   "execution_count": 4,
   "metadata": {
    "collapsed": false
   },
   "outputs": [
    {
     "name": "stdout",
     "output_type": "stream",
     "text": [
      "1.79231053405\n",
      "1.93814211101\n",
      "2.01105789949\n",
      "1.97460000525\n",
      "1.99282895237\n",
      "2.00194342593\n",
      "1.99738618915\n",
      "1.99966480754\n",
      "2.00080411673\n"
     ]
    }
   ],
   "source": [
    "# находим y'(0) методом половинного деления\n",
    "while right - left > 1e-3:\n",
    "    m = (left + right) / 2\n",
    "    t = solve_koshy(m) \n",
    "    print(t)\n",
    "    if (t == 2):\n",
    "        break\n",
    "    if (t < 2):\n",
    "        left = m\n",
    "    else:\n",
    "        right = m\n",
    "    \n",
    "m = (left + right) / 2"
   ]
  },
  {
   "cell_type": "code",
   "execution_count": 5,
   "metadata": {
    "collapsed": true
   },
   "outputs": [],
   "source": [
    "# решение задачи Коши, которое возвращает все точки\n",
    "def solve_koshy_full(yp0):\n",
    "    x = 0\n",
    "    dx = 0.0001\n",
    "    y = 1\n",
    "    yp = yp0\n",
    "    x_list = [x]\n",
    "    y_list = [y]\n",
    "    yp_list = [yp]\n",
    "    while x < 1:\n",
    "        ypp = calc_ypp(x, y)\n",
    "        y += yp * dx\n",
    "        yp += ypp * dx\n",
    "        x += dx\n",
    "        x_list.append(x)\n",
    "        y_list.append(y)\n",
    "        yp_list.append(yp)\n",
    "    return (x_list, y_list, yp_list)"
   ]
  },
  {
   "cell_type": "code",
   "execution_count": 7,
   "metadata": {
    "collapsed": false
   },
   "outputs": [
    {
     "data": {
      "image/png": "[encoded data removed]",
      "text/plain": [
       "<matplotlib.figure.Figure at 0x10541bb70>"
      ]
     },
     "metadata": {},
     "output_type": "display_data"
    },
    {
     "data": {
      "text/plain": [
       "[<matplotlib.lines.Line2D at 0x1060aca58>]"
      ]
     },
     "execution_count": 7,
     "metadata": {},
     "output_type": "execute_result"
    },
    {
     "data": {
      "image/png": "[encoded data removed]",
      "text/plain": [
       "<matplotlib.figure.Figure at 0x1060fd1d0>"
      ]
     },
     "metadata": {},
     "output_type": "display_data"
    }
   ],
   "source": [
    "# график искомой функции\n",
    "%matplotlib inline\n",
    "\n",
    "x_l, y_l, yp_l = solve_koshy_full(m)\n",
    "\n",
    "plt.plot(x_l, y_l)\n",
    "plt.show()\n",
    "plt.plot(x_l, yp_l) # график производной"
   ]
  },
  {
   "cell_type": "code",
   "execution_count": null,
   "metadata": {
    "collapsed": true
   },
   "outputs": [],
   "source": []
  }
 ],
 "metadata": {
  "anaconda-cloud": {},
  "kernelspec": {
   "display_name": "Python [Root]",
   "language": "python",
   "name": "Python [Root]"
  },
  "language_info": {
   "codemirror_mode": {
    "name": "ipython",
    "version": 3
   },
   "file_extension": ".py",
   "mimetype": "text/x-python",
   "name": "python",
   "nbconvert_exporter": "python",
   "pygments_lexer": "ipython3",
   "version": "3.5.2"
  }
 },
 "nbformat": 4,
 "nbformat_minor": 0
}
