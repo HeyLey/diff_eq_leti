{
 "cells": [
  {
   "cell_type": "code",
   "execution_count": 1,
   "metadata": {
    "collapsed": true
   },
   "outputs": [],
   "source": [
    "import numpy as np\n",
    "\n",
    "%matplotlib inline\n",
    "\n",
    "import matplotlib\n",
    "import numpy as np\n",
    "import matplotlib.pyplot as plt"
   ]
  },
  {
   "cell_type": "code",
   "execution_count": 2,
   "metadata": {
    "collapsed": true
   },
   "outputs": [],
   "source": [
    "alpha0 = 1.0\n",
    "betta0 = 2.0\n",
    "alpha1 = 3.0\n",
    "betta1 = -3.0\n",
    "\n",
    "\n",
    "def q(x):\n",
    "    return np.arcsin(1 / (1 + x ** 2))\n",
    "\n",
    "def f(x):\n",
    "    return np.sin(10 * x)\n",
    "\n",
    "def forward_pass(h):\n",
    "    x = 0\n",
    "    \n",
    "    A_list = []\n",
    "    B_list = []\n",
    "    \n",
    "    A = - betta0 / h / (alpha0 - betta0 / h)\n",
    "    B = 0.0\n",
    "    \n",
    "    A_list.append(A)\n",
    "    B_list.append(B)\n",
    "    \n",
    "    x = h\n",
    "    \n",
    "    while x < 3.0:\n",
    "        a = 1.0 / h ** 2\n",
    "        b = -(2.0 / h ** 2 + q(x))\n",
    "        c = 1.0 / h ** 2\n",
    "        \n",
    "        B = (f(x) - a * B) / (a * A + b)\n",
    "        A = - c / (a * A + b)\n",
    "        \n",
    "        A_list.append(A)\n",
    "        B_list.append(B)\n",
    "        \n",
    "        x = x + h\n",
    "    \n",
    "    return A_list, B_list\n",
    "\n",
    "def backward_pass(A, B, h):\n",
    "    a_n = -(betta1 / h)\n",
    "    b_n = betta1 / h + alpha1\n",
    "    \n",
    "    A = A[::-1]\n",
    "    B = B[::-1]\n",
    "    \n",
    "    y = (- B[0] * a_n) / (b_n + A[0] * a_n)\n",
    "    \n",
    "    y_list = []\n",
    "    \n",
    "    y_list.append(y)\n",
    "    \n",
    "    for i in range(0, len(A)):\n",
    "        y = A[i] * y + B[i]\n",
    "        y_list.append(y)\n",
    "\n",
    "    return y_list[::-1]"
   ]
  },
  {
   "cell_type": "code",
   "execution_count": 3,
   "metadata": {
    "collapsed": false
   },
   "outputs": [
    {
     "name": "stdout",
     "output_type": "stream",
     "text": [
      "0.00625\n"
     ]
    }
   ],
   "source": [
    "h = 0.1\n",
    "\n",
    "A, B = forward_pass(h)\n",
    "\n",
    "Y = backward_pass(A, B, h)\n",
    "\n",
    "prev0, prev1 = Y[0], Y[-1]\n",
    "\n",
    "while True:\n",
    "    h = h / 2\n",
    "    A, B = forward_pass(h)\n",
    "\n",
    "    Y = backward_pass(A, B, h)\n",
    "    \n",
    "    if (abs(Y[0] - prev0) + abs(Y[-1] - prev1)) <= 1e-2:\n",
    "        break\n",
    "    \n",
    "    prev0, prev1 = Y[0], Y[-1]\n",
    "\n",
    "print(h)"
   ]
  },
  {
   "cell_type": "code",
   "execution_count": 4,
   "metadata": {
    "collapsed": false
   },
   "outputs": [
    {
     "name": "stdout",
     "output_type": "stream",
     "text": [
      "481\n"
     ]
    }
   ],
   "source": [
    "print(len(Y))"
   ]
  },
  {
   "cell_type": "code",
   "execution_count": 5,
   "metadata": {
    "collapsed": false
   },
   "outputs": [
    {
     "data": {
      "text/plain": [
       "[<matplotlib.lines.Line2D at 0x10c941f28>]"
      ]
     },
     "execution_count": 5,
     "metadata": {},
     "output_type": "execute_result"
    },
    {
     "data": {
      "image/png": "[encoded data removed]",
      "text/plain": [
       "<matplotlib.figure.Figure at 0x10a507908>"
      ]
     },
     "metadata": {},
     "output_type": "display_data"
    }
   ],
   "source": [
    "plt.plot(np.arange(0.0, 3.0 + h, h),  Y)"
   ]
  },
  {
   "cell_type": "code",
   "execution_count": null,
   "metadata": {
    "collapsed": true
   },
   "outputs": [],
   "source": []
  },
  {
   "cell_type": "code",
   "execution_count": null,
   "metadata": {
    "collapsed": true
   },
   "outputs": [],
   "source": []
  },
  {
   "cell_type": "code",
   "execution_count": null,
   "metadata": {
    "collapsed": true
   },
   "outputs": [],
   "source": []
  }
 ],
 "metadata": {
  "kernelspec": {
   "display_name": "Python [Root]",
   "language": "python",
   "name": "Python [Root]"
  },
  "language_info": {
   "codemirror_mode": {
    "name": "ipython",
    "version": 3
   },
   "file_extension": ".py",
   "mimetype": "text/x-python",
   "name": "python",
   "nbconvert_exporter": "python",
   "pygments_lexer": "ipython3",
   "version": "3.5.2"
  }
 },
 "nbformat": 4,
 "nbformat_minor": 1
}
