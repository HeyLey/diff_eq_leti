{
 "cells": [
  {
   "cell_type": "code",
   "execution_count": 1,
   "metadata": {
    "collapsed": true
   },
   "outputs": [],
   "source": [
    "import math\n",
    "import numpy as np\n",
    "\n",
    "%matplotlib inline\n",
    "\n",
    "import matplotlib\n",
    "import numpy as np\n",
    "import matplotlib.pyplot as plt"
   ]
  },
  {
   "cell_type": "code",
   "execution_count": 2,
   "metadata": {
    "collapsed": true
   },
   "outputs": [],
   "source": [
    "def calc_dx1(t, x1, x2):\n",
    "    return -0.5 * x1 + 0.1 * abs(np.sin(3 * t)) * x2\n",
    "\n",
    "def calc_dx2(t, x1, x2):\n",
    "    return np.exp(np.sin(t)) * x1 + 0.5 * x2"
   ]
  },
  {
   "cell_type": "code",
   "execution_count": 3,
   "metadata": {
    "collapsed": false
   },
   "outputs": [],
   "source": [
    "def solve_koshi(x1_0, x2_0, max_t = 2*math.pi):\n",
    "    current_t = 0.0\n",
    "        \n",
    "    x1 = x1_0\n",
    "    x2 = x2_0\n",
    "        \n",
    "    while current_t < max_t:\n",
    "        dx1 = calc_dx1(current_t, x1, x2)\n",
    "        dx2 = calc_dx2(current_t, x1, x2)\n",
    "        \n",
    "        step = 0.00001 \n",
    "        x1 += dx1 * step\n",
    "        x2 += dx2 * step\n",
    "        current_t += step\n",
    "                \n",
    "    return x1, x2\n",
    "\n",
    "    "
   ]
  },
  {
   "cell_type": "code",
   "execution_count": 4,
   "metadata": {
    "collapsed": false
   },
   "outputs": [],
   "source": [
    "u1, u2 = solve_koshi(1, 0)"
   ]
  },
  {
   "cell_type": "code",
   "execution_count": 5,
   "metadata": {
    "collapsed": false
   },
   "outputs": [],
   "source": [
    "v1, v2 = solve_koshi(0, 1)"
   ]
  },
  {
   "cell_type": "code",
   "execution_count": 6,
   "metadata": {
    "collapsed": false
   },
   "outputs": [],
   "source": [
    "m = np.array([[u1, v1], [u2, v2]])"
   ]
  },
  {
   "cell_type": "code",
   "execution_count": 7,
   "metadata": {
    "collapsed": false
   },
   "outputs": [
    {
     "data": {
      "text/plain": [
       "array([[  3.19124874,   2.01338623],\n",
       "       [ 52.85985932,  33.66308954]])"
      ]
     },
     "execution_count": 7,
     "metadata": {},
     "output_type": "execute_result"
    }
   ],
   "source": [
    "m"
   ]
  },
  {
   "cell_type": "code",
   "execution_count": 8,
   "metadata": {
    "collapsed": false
   },
   "outputs": [],
   "source": [
    "evalues, vectors = np.linalg.eig(m)"
   ]
  },
  {
   "cell_type": "code",
   "execution_count": 9,
   "metadata": {
    "collapsed": false
   },
   "outputs": [
    {
     "data": {
      "text/plain": [
       "(array([  2.71532898e-02,   3.68271850e+01]),\n",
       " array([[-0.536851  , -0.05975124],\n",
       "        [ 0.84367707, -0.9982133 ]]))"
      ]
     },
     "execution_count": 9,
     "metadata": {},
     "output_type": "execute_result"
    }
   ],
   "source": [
    "evalues, vectors"
   ]
  },
  {
   "cell_type": "code",
   "execution_count": 9,
   "metadata": {
    "collapsed": true
   },
   "outputs": [],
   "source": [
    "ev1 = vectors[:, 0]\n",
    "ev2 = vectors[:, 1]"
   ]
  },
  {
   "cell_type": "code",
   "execution_count": 10,
   "metadata": {
    "collapsed": false
   },
   "outputs": [
    {
     "name": "stdout",
     "output_type": "stream",
     "text": [
      "[-0.536851    0.84367707]\n",
      "[-0.01457727  0.02290861]\n",
      "[-0.00039582  0.00062204]\n"
     ]
    }
   ],
   "source": [
    "print(ev1)\n",
    "print(ev1 * evalues[0])\n",
    "print(ev1 * evalues[0] * evalues[0])"
   ]
  },
  {
   "cell_type": "code",
   "execution_count": 11,
   "metadata": {
    "collapsed": false
   },
   "outputs": [
    {
     "data": {
      "text/plain": [
       "(-0.014577270768672868, 0.02290860811073725)"
      ]
     },
     "execution_count": 11,
     "metadata": {},
     "output_type": "execute_result"
    }
   ],
   "source": [
    "solve_koshi(ev1[0], ev1[1], 2 * math.pi)"
   ]
  },
  {
   "cell_type": "code",
   "execution_count": 12,
   "metadata": {
    "collapsed": false
   },
   "outputs": [
    {
     "data": {
      "text/plain": [
       "(-0.00039589957965375648, 0.00062072893556464526)"
      ]
     },
     "execution_count": 12,
     "metadata": {},
     "output_type": "execute_result"
    }
   ],
   "source": [
    "solve_koshi(ev1[0], ev1[1], 4 * math.pi)"
   ]
  },
  {
   "cell_type": "code",
   "execution_count": 13,
   "metadata": {
    "collapsed": false
   },
   "outputs": [
    {
     "name": "stdout",
     "output_type": "stream",
     "text": [
      "[-0.05975124 -0.9982133 ]\n",
      "[ -2.20046998 -36.76138581]\n",
      "[  -81.03711514 -1353.81835591]\n"
     ]
    }
   ],
   "source": [
    "print(ev2)\n",
    "print(ev2 * evalues[1])\n",
    "print(ev2 * evalues[1] * evalues[1])"
   ]
  },
  {
   "cell_type": "code",
   "execution_count": 14,
   "metadata": {
    "collapsed": false
   },
   "outputs": [
    {
     "data": {
      "text/plain": [
       "(-2.2004699828600494, -36.761385809051582)"
      ]
     },
     "execution_count": 14,
     "metadata": {},
     "output_type": "execute_result"
    }
   ],
   "source": [
    "solve_koshi(ev2[0], ev2[1], 2 * math.pi)"
   ]
  },
  {
   "cell_type": "code",
   "execution_count": 15,
   "metadata": {
    "collapsed": false
   },
   "outputs": [
    {
     "data": {
      "text/plain": [
       "(-81.036747026888108, -1353.8189344374146)"
      ]
     },
     "execution_count": 15,
     "metadata": {},
     "output_type": "execute_result"
    }
   ],
   "source": [
    "solve_koshi(ev2[0], ev2[1], 4 * math.pi)"
   ]
  },
  {
   "cell_type": "code",
   "execution_count": null,
   "metadata": {
    "collapsed": true
   },
   "outputs": [],
   "source": []
  }
 ],
 "metadata": {
  "anaconda-cloud": {},
  "kernelspec": {
   "display_name": "Python [Root]",
   "language": "python",
   "name": "Python [Root]"
  },
  "language_info": {
   "codemirror_mode": {
    "name": "ipython",
    "version": 3
   },
   "file_extension": ".py",
   "mimetype": "text/x-python",
   "name": "python",
   "nbconvert_exporter": "python",
   "pygments_lexer": "ipython3",
   "version": "3.5.2"
  }
 },
 "nbformat": 4,
 "nbformat_minor": 1
}
